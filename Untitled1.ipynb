{
 "cells": [
  {
   "cell_type": "code",
   "execution_count": 1,
   "id": "9d6ed17c",
   "metadata": {},
   "outputs": [],
   "source": [
    "import statistics\n",
    "\n",
    "def ratio(ncov,nvc1,nvc2):\n",
    "    oneBycov=[]\n",
    "    twoBycov = []\n",
    "    for i,x in enumerate(ncov):\n",
    "        oneBycov.append(nvc1[i]/ncov[i])\n",
    "        twoBycov.append(nvc2[i]/ncov[i])\n",
    "    return oneBycov, twoBycov"
   ]
  },
  {
   "cell_type": "code",
   "execution_count": 6,
   "id": "741f2e51",
   "metadata": {},
   "outputs": [
    {
     "name": "stdout",
     "output_type": "stream",
     "text": [
      "{5: {'ApproxVC2': [0.1319, 0.1044067366919715], 'ApproxVC1': [0.0927, 0.15198980228949574]}, 10: {'ApproxVC2': [0.1795, 0.03148985727359067], 'ApproxVC1': [0.1542, 0.040397469667734824]}, 15: {'ApproxVC2': [0.2736, 0.074060335763034], 'ApproxVC1': [0.2883, 0.06378792989273127]}, 20: {'ApproxVC2': [0.3791, 0.17360136328189746], 'ApproxVC1': [0.3842, 0.16429837356333005]}, 25: {'ApproxVC2': [0.4935, 0.19870986666774026], 'ApproxVC1': [0.5501, 0.20108895212484118]}, 30: {'ApproxVC2': [0.6487, 0.27675422309334324], 'ApproxVC1': [0.7129, 0.2751381269269835]}, 35: {'ApproxVC2': [0.3591, 0.1437648156616292], 'ApproxVC1': [0.5026, 0.10049787172981438]}, 40: {'ApproxVC2': [0.4052, 0.14622266126242764], 'ApproxVC1': [0.5223, 0.14906676356585996]}, 45: {'ApproxVC2': [0.3606, 0.12395267914275457], 'ApproxVC1': [0.4039, 0.15739013805050034]}, 50: {'ApproxVC2': [0.3051, 0.10618584337534515], 'ApproxVC1': [0.4645, 0.11569043943981619]}, 0: {}}\n"
     ]
    }
   ],
   "source": [
    "data={}\n",
    "currVerti=0\n",
    "vc2=[]\n",
    "vc1=[]\n",
    "nvc1=[]\n",
    "nvc2=[]\n",
    "f = open(\"2algo.txt\", \"r\")\n",
    "for x in f:\n",
    "    if \"vertices\" in x:\n",
    "        x=x.strip()\n",
    "        split=x.split(',')\n",
    "        data[int(split[1])]={}\n",
    "        if (currVerti != int(split[1]) ) :\n",
    "            if currVerti !=0:\n",
    "                data.update({currVerti:{\"ApproxVC2\":[statistics.mean(vc2),statistics.stdev(vc2)],\"ApproxVC1\":[statistics.mean(vc1),statistics.stdev(vc1)]}})\n",
    "            vc1.clear()\n",
    "            vc2.clear()\n",
    "            currVerti=int(split[1])\n",
    "    elif \"Duration\" in x:\n",
    "        x=x.strip()\n",
    "        split=x.split(',')\n",
    "        if split[1] == \"ApproxVC2\":\n",
    "            vc2.append(float(split[2]))\n",
    "        elif split[1] == \"ApproxVC1\":\n",
    "            vc1.append(float(split[2]))\n",
    "    elif \"APPROX-VC-1\" in x or \"APPROX-VC-2\" in x:\n",
    "        x = x.strip()\n",
    "        split = x.split(':')\n",
    "        number= len(split[1].strip().split(','))\n",
    "        if split[0] == \"APPROX-VC-1\":\n",
    "            nvc1.append(number)\n",
    "        elif split[0] == \"APPROX-VC-2\":\n",
    "            nvc2.append(number)\n",
    "print(data)\n",
    "        \n",
    "fwdur50= open(\"Duration50data.txt\",\"w\")\n",
    "\n",
    "\n",
    "\n",
    "for x in data.keys():\n",
    "    if x != 0:\n",
    "        fwdur50.write(str(x)+\"\\t\"+str(data[x]['ApproxVC2'][0])+\"\\t\"+str(data[x]['ApproxVC2'][1])+\"\\t\"+str(data[x]['ApproxVC1'][0])+\"\\t\"+str(data[x]['ApproxVC1'][1])+'\\n')    \n",
    " \n",
    "\n"
   ]
  },
  {
   "cell_type": "code",
   "execution_count": 7,
   "id": "a6c257cb",
   "metadata": {},
   "outputs": [
    {
     "ename": "SyntaxError",
     "evalue": "invalid syntax (2135703983.py, line 1)",
     "output_type": "error",
     "traceback": [
      "\u001b[0;36m  File \u001b[0;32m\"/tmp/ipykernel_8184/2135703983.py\"\u001b[0;36m, line \u001b[0;32m1\u001b[0m\n\u001b[0;31m    plot \"Duration50data.txt\" using 1:2:($3/10) title \"Approx-2\" lt 7 lc 9 dt 2 w errorlines, \"Duration50data.txt\" using 1:4:($5/10) title \"Approx-1\"  dt 1 lt 7 lc 7  w errorlines\u001b[0m\n\u001b[0m         ^\u001b[0m\n\u001b[0;31mSyntaxError\u001b[0m\u001b[0;31m:\u001b[0m invalid syntax\n"
     ]
    }
   ],
   "source": [
    "plot \"Duration50data.txt\" using 1:2:($3/10) title \"Approx-2\" lt 7 lc 9 dt 2 w errorlines, \"Duration50data.txt\" using 1:4:($5/10) title \"Approx-1\"  dt 1 lt 7 lc 7  w errorlines"
   ]
  },
  {
   "cell_type": "code",
   "execution_count": null,
   "id": "dd9b3d86",
   "metadata": {},
   "outputs": [],
   "source": []
  }
 ],
 "metadata": {
  "kernelspec": {
   "display_name": "Python 3 (ipykernel)",
   "language": "python",
   "name": "python3"
  },
  "language_info": {
   "codemirror_mode": {
    "name": "ipython",
    "version": 3
   },
   "file_extension": ".py",
   "mimetype": "text/x-python",
   "name": "python",
   "nbconvert_exporter": "python",
   "pygments_lexer": "ipython3",
   "version": "3.9.7"
  }
 },
 "nbformat": 4,
 "nbformat_minor": 5
}

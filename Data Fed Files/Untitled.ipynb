{
 "cells": [
  {
   "cell_type": "code",
   "execution_count": 3,
   "id": "4d6f24b8",
   "metadata": {},
   "outputs": [],
   "source": [
    "import statistics\n",
    "\n",
    "def ratio(ncov,nvc1,nvc2):\n",
    "    oneBycov=[]\n",
    "    twoBycov = []\n",
    "    for i,x in enumerate(ncov):\n",
    "        oneBycov.append(nvc1[i]/ncov[i])\n",
    "        twoBycov.append(nvc2[i]/ncov[i])\n",
    "    return oneBycov, twoBycov"
   ]
  },
  {
   "cell_type": "code",
   "execution_count": 5,
   "id": "6fd2e179",
   "metadata": {},
   "outputs": [
    {
     "name": "stdout",
     "output_type": "stream",
     "text": [
      "{5: {'ApproxVC2': [0.145, 0.166252151197444], 'ApproxVC1': [0.1928, 0.1680626867173873], 'Coversat': [1.8779, 0.302103900449277], 'oneBycov': [1.0, 0.0], 'twoBycov': [1.5666666666666667, 0.3865006029094686]}, 6: {'ApproxVC2': [0.0468, 0.015859101838096353], 'ApproxVC1': [0.0685, 0.09246771208253061], 'Coversat': [1.2212, 0.458884347569673], 'oneBycov': [1.0, 0.0], 'twoBycov': [1.5999999999999999, 0.3838859479749573]}, 7: {'ApproxVC2': [0.027700000000000002, 0.0063953107821277935], 'ApproxVC1': [0.0339, 0.007809538327512638], 'Coversat': [1.1124, 0.6342975467221813], 'oneBycov': [1.011111111111111, 0.06085806194501844], 'twoBycov': [1.6555555555555554, 0.3633953688823781]}, 8: {'ApproxVC2': [0.0223, 0.003591656999213594], 'ApproxVC1': [0.034, 0.013283239230114183], 'Coversat': [2.9105, 3.101321770184806], 'oneBycov': [1.0145833333333334, 0.06506489199975798], 'twoBycov': [1.5716666666666665, 0.3648010033974305]}, 9: {'ApproxVC2': [0.0244, 0.008030497424748288], 'ApproxVC1': [0.0329, 0.017090933268841698], 'Coversat': [4.9681, 3.333875104305965], 'oneBycov': [1.0116666666666667, 0.058345479784965924], 'twoBycov': [1.5673333333333332, 0.3510586516107363]}, 10: {'ApproxVC2': [0.0245, 0.008316649966583099], 'ApproxVC1': [0.0328, 0.013011106366827107], 'Coversat': [32.8971, 43.15805321386857], 'oneBycov': [1.0130555555555556, 0.0587127825511847], 'twoBycov': [1.5727777777777778, 0.33398194898427086]}, 11: {'ApproxVC2': [0.0322, 0.009930872178324631], 'ApproxVC1': [0.0426, 0.016433029070881743], 'Coversat': [61.7104, 41.862178085288924], 'oneBycov': [1.0111904761904762, 0.0544864347025721], 'twoBycov': [1.5704761904761906, 0.31231012174809164]}, 12: {'ApproxVC2': [0.0311, 0.009527154174603593], 'ApproxVC1': [0.05, 0.03045579674800112], 'Coversat': [331.726, 351.612023708582], 'oneBycov': [1.0139583333333333, 0.05665572927457838], 'twoBycov': [1.5682142857142858, 0.30569268559416946]}, 13: {'ApproxVC2': [0.0316, 0.01233963802818651], 'ApproxVC1': [0.0458, 0.01836542645540497], 'Coversat': [809.6969, 777.1961690798033], 'oneBycov': [1.017962962962963, 0.060285824497280996], 'twoBycov': [1.5685714285714285, 0.2960359608595573]}, 14: {'ApproxVC2': [0.0445, 0.020727062288494025], 'ApproxVC1': [0.0609, 0.019145350465437933], 'Coversat': [1265.6983, 773.9966437380649], 'oneBycov': [1.0204523809523809, 0.061290375365651774], 'twoBycov': [1.5702857142857143, 0.28478855962801575]}, 15: {'ApproxVC2': [0.0561, 0.015566702355419475], 'ApproxVC1': [0.0574, 0.017957975634488674], 'Coversat': [3836.1955000000003, 7298.5074745491365], 'oneBycov': [1.0198917748917748, 0.05986280608001193], 'twoBycov': [1.5583766233766234, 0.28128571125678353]}, 0: {}}\n",
      "5\n",
      "6\n",
      "7\n",
      "8\n",
      "9\n",
      "10\n",
      "11\n",
      "12\n",
      "13\n",
      "14\n",
      "15\n"
     ]
    }
   ],
   "source": [
    "data={}\n",
    "currVerti=0\n",
    "vc2=[]\n",
    "vc1=[]\n",
    "cov=[]\n",
    "oneBycov=[]\n",
    "twoBycov=[]\n",
    "ncov=[]\n",
    "nvc1=[]\n",
    "nvc2=[]\n",
    "f = open(\"Duration1to15output.txt\", \"r\")\n",
    "for x in f:\n",
    "    if \"vertices\" in x:\n",
    "        x=x.strip()\n",
    "        split=x.split(',')\n",
    "        data[int(split[1])]={}\n",
    "        if (currVerti != int(split[1]) ) :\n",
    "            if currVerti !=0:\n",
    "                oneBycov, twoBycov = ratio(ncov,nvc1,nvc2)\n",
    "                data.update({currVerti:{\"ApproxVC2\":[statistics.mean(vc2),statistics.stdev(vc2)],\"ApproxVC1\":[statistics.mean(vc1),statistics.stdev(vc1)],\"Coversat\":[statistics.mean(cov),statistics.stdev(cov)],\"oneBycov\":[statistics.mean(oneBycov),statistics.stdev(oneBycov)],\"twoBycov\":[statistics.mean(twoBycov),statistics.stdev(twoBycov)]}})\n",
    "            #data[currVerti]={\"ApproxVC2\":vc2,\"ApproxVC1\":vc1,\"Coversat\":cov}\n",
    "            cov.clear()\n",
    "            vc1.clear()\n",
    "            vc2.clear()\n",
    "            currVerti=int(split[1])\n",
    "    elif \"Duration\" in x:\n",
    "        x=x.strip()\n",
    "        split=x.split(',')\n",
    "        if split[1] == \"ApproxVC2\":\n",
    "            vc2.append(float(split[2]))\n",
    "        elif split[1] == \"ApproxVC1\":\n",
    "            vc1.append(float(split[2]))\n",
    "        elif split[1] == \"Coversat\":\n",
    "            cov.append(float(split[2]))\n",
    "    elif \"CNF-SAT-VC\" in x or \"APPROX-VC-1\" in x or \"APPROX-VC-2\" in x:\n",
    "        x = x.strip()\n",
    "        split = x.split(':')\n",
    "        number= len(split[1].strip().split(','))\n",
    "        if split[0] == \"CNF-SAT-VC\":\n",
    "            ncov.append(number)\n",
    "        elif split[0] == \"APPROX-VC-1\":\n",
    "            nvc1.append(number)\n",
    "        elif split[0] == \"APPROX-VC-2\":\n",
    "            nvc2.append(number)\n",
    "print(data)\n",
    "        \n",
    "fwdur= open(\"Duration1to15data.txt\",\"w\")\n",
    "\n",
    "fwratio = open(\"Ratio1to15data.txt\",\"w\")\n",
    "\n",
    "for x in data.keys():\n",
    "    if x != 0:\n",
    "        print(x)\n",
    "        fwdur.write(str(x)+\"\\t\"+str(data[x]['ApproxVC2'][0])+\"\\t\"+str(data[x]['ApproxVC2'][1])+'\\t'+str(data[x]['ApproxVC1'][0])+\"\\t\"+str(data[x]['ApproxVC1'][1])+'\\t'+str(data[x]['Coversat'][0])+\"\\t\"+str(data[x]['Coversat'][1])+'\\n')\n",
    "\n",
    "        \n",
    "for x in data.keys():\n",
    "    if x != 0:\n",
    "        fwratio.write(str(x)+\"\\t\"+str(data[x]['oneBycov'][0])+\"\\t\"+str(data[x]['oneBycov'][1])+\"\\t\"+str(data[x]['twoBycov'][0])+\"\\t\"+str(data[x]['twoBycov'][1])+'\\n')\n",
    "            \n",
    "            \n",
    "        \n",
    " \n",
    "\n"
   ]
  },
  {
   "cell_type": "code",
   "execution_count": 19,
   "id": "6f75b0e9",
   "metadata": {},
   "outputs": [
    {
     "name": "stdout",
     "output_type": "stream",
     "text": [
      "0.028652903672907026\n"
     ]
    }
   ],
   "source": [
    "plot \"Duration1to15data.txt\" using 1:2:($3/10) title \"Approx-2\" lt 7 lc 9 dt 2 w errorlines, \"Duration1to15data.txt\" using 1:4:($5/10) title \"Approx-1\"  dt 1 lt 7 lc 7  w errorlines, \"Duration1to15data.txt\" using 1:($6/10000):($7/100000) title \"CNF-SAT\"  dt 5 lt 7 lc 10  w errorlines\n"
   ]
  },
  {
   "cell_type": "code",
   "execution_count": 7,
   "id": "6e418244",
   "metadata": {},
   "outputs": [
    {
     "data": {
      "text/plain": [
       "2"
      ]
     },
     "execution_count": 7,
     "metadata": {},
     "output_type": "execute_result"
    }
   ],
   "source": []
  },
  {
   "cell_type": "code",
   "execution_count": 8,
   "id": "66934838",
   "metadata": {},
   "outputs": [
    {
     "name": "stdout",
     "output_type": "stream",
     "text": [
      "0\n",
      "1\n",
      "2\n",
      "3\n"
     ]
    }
   ],
   "source": []
  },
  {
   "cell_type": "code",
   "execution_count": null,
   "id": "93b7993c",
   "metadata": {},
   "outputs": [],
   "source": [
    "plot \"Ratio1to15data.txt\" using 1:2:($3/10) title \"Approx-1(Vertices)/CNF-SAT(Vertices)\" lt 7 lc 9 dt 2 w errorlines, \"Ratio1to15data.txt\" using 1:4:($5/10) title \"Approx-2(Vertices)/CNF-SAT(Vertices)\"  dt 1 lt 7 lc 7  w errorlines"
   ]
  }
 ],
 "metadata": {
  "kernelspec": {
   "display_name": "Python 3 (ipykernel)",
   "language": "python",
   "name": "python3"
  },
  "language_info": {
   "codemirror_mode": {
    "name": "ipython",
    "version": 3
   },
   "file_extension": ".py",
   "mimetype": "text/x-python",
   "name": "python",
   "nbconvert_exporter": "python",
   "pygments_lexer": "ipython3",
   "version": "3.9.7"
  }
 },
 "nbformat": 4,
 "nbformat_minor": 5
}
